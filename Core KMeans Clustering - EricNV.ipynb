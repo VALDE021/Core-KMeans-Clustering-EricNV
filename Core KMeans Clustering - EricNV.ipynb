{
 "cells": [
  {
   "cell_type": "markdown",
   "metadata": {},
   "source": [
    "\t\n",
    "# <center><u>KMeans Clustering (Core)</u>\n",
    "* Authored By: Eric N Valdez\n",
    "* Date: 03/8/2024"
   ]
  },
  {
   "cell_type": "markdown",
   "metadata": {},
   "source": [
    "## `KMeans Clustering (Core)`\n",
    "\n",
    "## <u>Task</u>\n",
    "\n",
    "* Your task is to perform customer segmentation using KMeans. We are interested in grouping our customers into groups based on similar characteristics. This can help the company effectively allocate marketing resources. \n",
    "* We will use customer age, education, years of employment, income, debt, whether they defaulted, and their debt-to-income ratio to group them into segments.\n",
    "\n",
    "* You can download the [data here](https://assets.codingdojo.com/boomyeah2015/codingdojo/curriculum/content/chapter/cust_seg.csv). The original data is from this [data source.](https://github.com/Nikhil-Adithyan/Customer-Segmentation-with-K-Means)"
   ]
  },
  {
   "cell_type": "markdown",
   "metadata": {},
   "source": [
    "## <u>Imports"
   ]
  },
  {
   "cell_type": "code",
   "execution_count": 1,
   "metadata": {},
   "outputs": [],
   "source": [
    "# Imports\n",
    "import pandas as pd\n",
    "import numpy as np\n",
    "import matplotlib.pyplot as plt\n",
    "\n",
    "# Preprocessing\n",
    "from sklearn.preprocessing import StandardScaler\n",
    "from sklearn.cluster import KMeans\n",
    "from sklearn.metrics import silhouette_score\n",
    "\n",
    "# Warnings\n",
    "import warnings\n",
    "\n",
    "# Set filter warnings to ignore\n",
    "warnings.filterwarnings('ignore')"
   ]
  },
  {
   "cell_type": "markdown",
   "metadata": {},
   "source": [
    "## <u>Custom Settings"
   ]
  },
  {
   "cell_type": "code",
   "execution_count": 2,
   "metadata": {},
   "outputs": [],
   "source": [
    "# Set MatPlotLib default parameters\n",
    "plt.rcParams.update({'figure.facecolor': 'white',\n",
    "                          'font.weight': 'bold',\n",
    "                      'patch.linewidth': 1.25,\n",
    "                       'axes.facecolor': 'white',\n",
    "                       'axes.edgecolor': 'black',\n",
    "                       'axes.linewidth': 2,\n",
    "                       'axes.titlesize': 14,\n",
    "                     'axes.titleweight': 'bold',\n",
    "                       'axes.labelsize': 12,\n",
    "                     'axes.labelweight': 'bold',\n",
    "                      'xtick.labelsize': 10,\n",
    "                      'ytick.labelsize': 10,\n",
    "                            'axes.grid': True,\n",
    "                       'axes.grid.axis': 'y',\n",
    "                           'grid.color': 'black',\n",
    "                       'grid.linewidth': .5,\n",
    "                           'grid.alpha': .25,\n",
    "                   'scatter.edgecolors': 'black'})"
   ]
  },
  {
   "cell_type": "markdown",
   "metadata": {},
   "source": [
    "## <u>Load Data"
   ]
  },
  {
   "cell_type": "code",
   "execution_count": 3,
   "metadata": {},
   "outputs": [
    {
     "name": "stdout",
     "output_type": "stream",
     "text": [
      "<class 'pandas.core.frame.DataFrame'>\n",
      "RangeIndex: 850 entries, 0 to 849\n",
      "Data columns (total 10 columns):\n",
      " #   Column           Non-Null Count  Dtype  \n",
      "---  ------           --------------  -----  \n",
      " 0   Unnamed: 0       850 non-null    int64  \n",
      " 1   Customer Id      850 non-null    int64  \n",
      " 2   Age              850 non-null    int64  \n",
      " 3   Edu              850 non-null    int64  \n",
      " 4   Years Employed   850 non-null    int64  \n",
      " 5   Income           850 non-null    int64  \n",
      " 6   Card Debt        850 non-null    float64\n",
      " 7   Other Debt       850 non-null    float64\n",
      " 8   Defaulted        700 non-null    float64\n",
      " 9   DebtIncomeRatio  850 non-null    float64\n",
      "dtypes: float64(4), int64(6)\n",
      "memory usage: 66.5 KB\n"
     ]
    },
    {
     "data": {
      "text/html": [
       "<div>\n",
       "<style scoped>\n",
       "    .dataframe tbody tr th:only-of-type {\n",
       "        vertical-align: middle;\n",
       "    }\n",
       "\n",
       "    .dataframe tbody tr th {\n",
       "        vertical-align: top;\n",
       "    }\n",
       "\n",
       "    .dataframe thead th {\n",
       "        text-align: right;\n",
       "    }\n",
       "</style>\n",
       "<table border=\"1\" class=\"dataframe\">\n",
       "  <thead>\n",
       "    <tr style=\"text-align: right;\">\n",
       "      <th></th>\n",
       "      <th>Unnamed: 0</th>\n",
       "      <th>Customer Id</th>\n",
       "      <th>Age</th>\n",
       "      <th>Edu</th>\n",
       "      <th>Years Employed</th>\n",
       "      <th>Income</th>\n",
       "      <th>Card Debt</th>\n",
       "      <th>Other Debt</th>\n",
       "      <th>Defaulted</th>\n",
       "      <th>DebtIncomeRatio</th>\n",
       "    </tr>\n",
       "  </thead>\n",
       "  <tbody>\n",
       "    <tr>\n",
       "      <th>0</th>\n",
       "      <td>0</td>\n",
       "      <td>1</td>\n",
       "      <td>41</td>\n",
       "      <td>2</td>\n",
       "      <td>6</td>\n",
       "      <td>19</td>\n",
       "      <td>0.124</td>\n",
       "      <td>1.073</td>\n",
       "      <td>0.0</td>\n",
       "      <td>6.3</td>\n",
       "    </tr>\n",
       "    <tr>\n",
       "      <th>1</th>\n",
       "      <td>1</td>\n",
       "      <td>2</td>\n",
       "      <td>47</td>\n",
       "      <td>1</td>\n",
       "      <td>26</td>\n",
       "      <td>100</td>\n",
       "      <td>4.582</td>\n",
       "      <td>8.218</td>\n",
       "      <td>0.0</td>\n",
       "      <td>12.8</td>\n",
       "    </tr>\n",
       "    <tr>\n",
       "      <th>2</th>\n",
       "      <td>2</td>\n",
       "      <td>3</td>\n",
       "      <td>33</td>\n",
       "      <td>2</td>\n",
       "      <td>10</td>\n",
       "      <td>57</td>\n",
       "      <td>6.111</td>\n",
       "      <td>5.802</td>\n",
       "      <td>1.0</td>\n",
       "      <td>20.9</td>\n",
       "    </tr>\n",
       "    <tr>\n",
       "      <th>3</th>\n",
       "      <td>3</td>\n",
       "      <td>4</td>\n",
       "      <td>29</td>\n",
       "      <td>2</td>\n",
       "      <td>4</td>\n",
       "      <td>19</td>\n",
       "      <td>0.681</td>\n",
       "      <td>0.516</td>\n",
       "      <td>0.0</td>\n",
       "      <td>6.3</td>\n",
       "    </tr>\n",
       "    <tr>\n",
       "      <th>4</th>\n",
       "      <td>4</td>\n",
       "      <td>5</td>\n",
       "      <td>47</td>\n",
       "      <td>1</td>\n",
       "      <td>31</td>\n",
       "      <td>253</td>\n",
       "      <td>9.308</td>\n",
       "      <td>8.908</td>\n",
       "      <td>0.0</td>\n",
       "      <td>7.2</td>\n",
       "    </tr>\n",
       "  </tbody>\n",
       "</table>\n",
       "</div>"
      ],
      "text/plain": [
       "   Unnamed: 0  Customer Id  Age  Edu  Years Employed  Income  Card Debt  \\\n",
       "0           0            1   41    2               6      19      0.124   \n",
       "1           1            2   47    1              26     100      4.582   \n",
       "2           2            3   33    2              10      57      6.111   \n",
       "3           3            4   29    2               4      19      0.681   \n",
       "4           4            5   47    1              31     253      9.308   \n",
       "\n",
       "   Other Debt  Defaulted  DebtIncomeRatio  \n",
       "0       1.073        0.0              6.3  \n",
       "1       8.218        0.0             12.8  \n",
       "2       5.802        1.0             20.9  \n",
       "3       0.516        0.0              6.3  \n",
       "4       8.908        0.0              7.2  "
      ]
     },
     "execution_count": 3,
     "metadata": {},
     "output_type": "execute_result"
    }
   ],
   "source": [
    "df = pd.read_csv('Data/cust_seg.csv')\n",
    "df.info()\n",
    "df.head()"
   ]
  },
  {
   "cell_type": "code",
   "execution_count": 4,
   "metadata": {},
   "outputs": [
    {
     "data": {
      "text/html": [
       "<div>\n",
       "<style scoped>\n",
       "    .dataframe tbody tr th:only-of-type {\n",
       "        vertical-align: middle;\n",
       "    }\n",
       "\n",
       "    .dataframe tbody tr th {\n",
       "        vertical-align: top;\n",
       "    }\n",
       "\n",
       "    .dataframe thead th {\n",
       "        text-align: right;\n",
       "    }\n",
       "</style>\n",
       "<table border=\"1\" class=\"dataframe\">\n",
       "  <thead>\n",
       "    <tr style=\"text-align: right;\">\n",
       "      <th></th>\n",
       "      <th>Unnamed: 0</th>\n",
       "      <th>Customer Id</th>\n",
       "      <th>Age</th>\n",
       "      <th>Edu</th>\n",
       "      <th>Years Employed</th>\n",
       "      <th>Income</th>\n",
       "      <th>Card Debt</th>\n",
       "      <th>Other Debt</th>\n",
       "      <th>Defaulted</th>\n",
       "      <th>DebtIncomeRatio</th>\n",
       "    </tr>\n",
       "  </thead>\n",
       "  <tbody>\n",
       "    <tr>\n",
       "      <th>count</th>\n",
       "      <td>850.00000</td>\n",
       "      <td>850.00000</td>\n",
       "      <td>850.000000</td>\n",
       "      <td>850.000000</td>\n",
       "      <td>850.000000</td>\n",
       "      <td>850.000000</td>\n",
       "      <td>850.000000</td>\n",
       "      <td>850.000000</td>\n",
       "      <td>700.000000</td>\n",
       "      <td>850.000000</td>\n",
       "    </tr>\n",
       "    <tr>\n",
       "      <th>mean</th>\n",
       "      <td>424.50000</td>\n",
       "      <td>425.50000</td>\n",
       "      <td>35.029412</td>\n",
       "      <td>1.710588</td>\n",
       "      <td>8.565882</td>\n",
       "      <td>46.675294</td>\n",
       "      <td>1.576820</td>\n",
       "      <td>3.078773</td>\n",
       "      <td>0.261429</td>\n",
       "      <td>10.171647</td>\n",
       "    </tr>\n",
       "    <tr>\n",
       "      <th>std</th>\n",
       "      <td>245.51816</td>\n",
       "      <td>245.51816</td>\n",
       "      <td>8.041432</td>\n",
       "      <td>0.927784</td>\n",
       "      <td>6.777884</td>\n",
       "      <td>38.543054</td>\n",
       "      <td>2.125843</td>\n",
       "      <td>3.398799</td>\n",
       "      <td>0.439727</td>\n",
       "      <td>6.719441</td>\n",
       "    </tr>\n",
       "    <tr>\n",
       "      <th>min</th>\n",
       "      <td>0.00000</td>\n",
       "      <td>1.00000</td>\n",
       "      <td>20.000000</td>\n",
       "      <td>1.000000</td>\n",
       "      <td>0.000000</td>\n",
       "      <td>13.000000</td>\n",
       "      <td>0.012000</td>\n",
       "      <td>0.046000</td>\n",
       "      <td>0.000000</td>\n",
       "      <td>0.100000</td>\n",
       "    </tr>\n",
       "    <tr>\n",
       "      <th>25%</th>\n",
       "      <td>212.25000</td>\n",
       "      <td>213.25000</td>\n",
       "      <td>29.000000</td>\n",
       "      <td>1.000000</td>\n",
       "      <td>3.000000</td>\n",
       "      <td>24.000000</td>\n",
       "      <td>0.382500</td>\n",
       "      <td>1.045750</td>\n",
       "      <td>0.000000</td>\n",
       "      <td>5.100000</td>\n",
       "    </tr>\n",
       "    <tr>\n",
       "      <th>50%</th>\n",
       "      <td>424.50000</td>\n",
       "      <td>425.50000</td>\n",
       "      <td>34.000000</td>\n",
       "      <td>1.000000</td>\n",
       "      <td>7.000000</td>\n",
       "      <td>35.000000</td>\n",
       "      <td>0.885000</td>\n",
       "      <td>2.003000</td>\n",
       "      <td>0.000000</td>\n",
       "      <td>8.700000</td>\n",
       "    </tr>\n",
       "    <tr>\n",
       "      <th>75%</th>\n",
       "      <td>636.75000</td>\n",
       "      <td>637.75000</td>\n",
       "      <td>41.000000</td>\n",
       "      <td>2.000000</td>\n",
       "      <td>13.000000</td>\n",
       "      <td>55.750000</td>\n",
       "      <td>1.898500</td>\n",
       "      <td>3.903250</td>\n",
       "      <td>1.000000</td>\n",
       "      <td>13.800000</td>\n",
       "    </tr>\n",
       "    <tr>\n",
       "      <th>max</th>\n",
       "      <td>849.00000</td>\n",
       "      <td>850.00000</td>\n",
       "      <td>56.000000</td>\n",
       "      <td>5.000000</td>\n",
       "      <td>33.000000</td>\n",
       "      <td>446.000000</td>\n",
       "      <td>20.561000</td>\n",
       "      <td>35.197000</td>\n",
       "      <td>1.000000</td>\n",
       "      <td>41.300000</td>\n",
       "    </tr>\n",
       "  </tbody>\n",
       "</table>\n",
       "</div>"
      ],
      "text/plain": [
       "       Unnamed: 0  Customer Id         Age         Edu  Years Employed  \\\n",
       "count   850.00000    850.00000  850.000000  850.000000      850.000000   \n",
       "mean    424.50000    425.50000   35.029412    1.710588        8.565882   \n",
       "std     245.51816    245.51816    8.041432    0.927784        6.777884   \n",
       "min       0.00000      1.00000   20.000000    1.000000        0.000000   \n",
       "25%     212.25000    213.25000   29.000000    1.000000        3.000000   \n",
       "50%     424.50000    425.50000   34.000000    1.000000        7.000000   \n",
       "75%     636.75000    637.75000   41.000000    2.000000       13.000000   \n",
       "max     849.00000    850.00000   56.000000    5.000000       33.000000   \n",
       "\n",
       "           Income   Card Debt  Other Debt   Defaulted  DebtIncomeRatio  \n",
       "count  850.000000  850.000000  850.000000  700.000000       850.000000  \n",
       "mean    46.675294    1.576820    3.078773    0.261429        10.171647  \n",
       "std     38.543054    2.125843    3.398799    0.439727         6.719441  \n",
       "min     13.000000    0.012000    0.046000    0.000000         0.100000  \n",
       "25%     24.000000    0.382500    1.045750    0.000000         5.100000  \n",
       "50%     35.000000    0.885000    2.003000    0.000000         8.700000  \n",
       "75%     55.750000    1.898500    3.903250    1.000000        13.800000  \n",
       "max    446.000000   20.561000   35.197000    1.000000        41.300000  "
      ]
     },
     "execution_count": 4,
     "metadata": {},
     "output_type": "execute_result"
    }
   ],
   "source": [
    "df.describe()"
   ]
  },
  {
   "cell_type": "code",
   "execution_count": 5,
   "metadata": {},
   "outputs": [
    {
     "data": {
      "text/plain": [
       "(850, 10)"
      ]
     },
     "execution_count": 5,
     "metadata": {},
     "output_type": "execute_result"
    }
   ],
   "source": [
    "df.shape"
   ]
  },
  {
   "cell_type": "markdown",
   "metadata": {},
   "source": [
    "### <u>EDA and Data Cleaning"
   ]
  },
  {
   "cell_type": "code",
   "execution_count": 6,
   "metadata": {},
   "outputs": [
    {
     "data": {
      "text/plain": [
       "Unnamed: 0           0\n",
       "Customer Id          0\n",
       "Age                  0\n",
       "Edu                  0\n",
       "Years Employed       0\n",
       "Income               0\n",
       "Card Debt            0\n",
       "Other Debt           0\n",
       "Defaulted          150\n",
       "DebtIncomeRatio      0\n",
       "dtype: int64"
      ]
     },
     "execution_count": 6,
     "metadata": {},
     "output_type": "execute_result"
    }
   ],
   "source": [
    "# Looking for missing values\n",
    "df.isna().sum()"
   ]
  },
  {
   "cell_type": "code",
   "execution_count": 7,
   "metadata": {},
   "outputs": [
    {
     "data": {
      "text/plain": [
       "Unnamed: 0         0\n",
       "Customer Id        0\n",
       "Age                0\n",
       "Edu                0\n",
       "Years Employed     0\n",
       "Income             0\n",
       "Card Debt          0\n",
       "Other Debt         0\n",
       "Defaulted          0\n",
       "DebtIncomeRatio    0\n",
       "dtype: int64"
      ]
     },
     "execution_count": 7,
     "metadata": {},
     "output_type": "execute_result"
    }
   ],
   "source": [
    "# Cleaning Data for Mode\n",
    "mode = df['Defaulted'].mode()[0]\n",
    "df['Defaulted'].fillna(mode, inplace=True)\n",
    "df.isna().sum()"
   ]
  },
  {
   "cell_type": "code",
   "execution_count": 8,
   "metadata": {},
   "outputs": [
    {
     "name": "stdout",
     "output_type": "stream",
     "text": [
      "Number of Duplicated Rows 0\n",
      "\n",
      "\n"
     ]
    }
   ],
   "source": [
    "# Checking for duplicate rows\n",
    "print('Number of Duplicated Rows', df.duplicated().sum())\n",
    "print('\\n')"
   ]
  },
  {
   "cell_type": "code",
   "execution_count": 9,
   "metadata": {},
   "outputs": [
    {
     "data": {
      "text/plain": [
       "Unnamed: 0           int64\n",
       "Customer Id          int64\n",
       "Age                  int64\n",
       "Edu                  int64\n",
       "Years Employed       int64\n",
       "Income               int64\n",
       "Card Debt          float64\n",
       "Other Debt         float64\n",
       "Defaulted          float64\n",
       "DebtIncomeRatio    float64\n",
       "dtype: object"
      ]
     },
     "execution_count": 9,
     "metadata": {},
     "output_type": "execute_result"
    }
   ],
   "source": [
    "# Checking dtypes\n",
    "df.dtypes"
   ]
  },
  {
   "cell_type": "code",
   "execution_count": 10,
   "metadata": {},
   "outputs": [
    {
     "name": "stdout",
     "output_type": "stream",
     "text": [
      "<class 'pandas.core.frame.DataFrame'>\n",
      "RangeIndex: 850 entries, 0 to 849\n",
      "Data columns (total 10 columns):\n",
      " #   Column           Non-Null Count  Dtype  \n",
      "---  ------           --------------  -----  \n",
      " 0   Unnamed: 0       850 non-null    int64  \n",
      " 1   Customer Id      850 non-null    int64  \n",
      " 2   Age              850 non-null    int64  \n",
      " 3   Edu              850 non-null    int64  \n",
      " 4   Years Employed   850 non-null    int64  \n",
      " 5   Income           850 non-null    int64  \n",
      " 6   Card Debt        850 non-null    float64\n",
      " 7   Other Debt       850 non-null    float64\n",
      " 8   Defaulted        850 non-null    float64\n",
      " 9   DebtIncomeRatio  850 non-null    float64\n",
      "dtypes: float64(4), int64(6)\n",
      "memory usage: 66.5 KB\n"
     ]
    }
   ],
   "source": [
    "# Rechecking info to make sure data is cleaned\n",
    "df.info()"
   ]
  },
  {
   "cell_type": "code",
   "execution_count": 11,
   "metadata": {},
   "outputs": [
    {
     "data": {
      "text/html": [
       "<div>\n",
       "<style scoped>\n",
       "    .dataframe tbody tr th:only-of-type {\n",
       "        vertical-align: middle;\n",
       "    }\n",
       "\n",
       "    .dataframe tbody tr th {\n",
       "        vertical-align: top;\n",
       "    }\n",
       "\n",
       "    .dataframe thead th {\n",
       "        text-align: right;\n",
       "    }\n",
       "</style>\n",
       "<table border=\"1\" class=\"dataframe\">\n",
       "  <thead>\n",
       "    <tr style=\"text-align: right;\">\n",
       "      <th></th>\n",
       "      <th>Age</th>\n",
       "      <th>Edu</th>\n",
       "      <th>Years Employed</th>\n",
       "      <th>Income</th>\n",
       "      <th>Card Debt</th>\n",
       "      <th>Other Debt</th>\n",
       "      <th>Defaulted</th>\n",
       "      <th>DebtIncomeRatio</th>\n",
       "    </tr>\n",
       "  </thead>\n",
       "  <tbody>\n",
       "    <tr>\n",
       "      <th>0</th>\n",
       "      <td>41</td>\n",
       "      <td>2</td>\n",
       "      <td>6</td>\n",
       "      <td>19</td>\n",
       "      <td>0.124</td>\n",
       "      <td>1.073</td>\n",
       "      <td>0.0</td>\n",
       "      <td>6.3</td>\n",
       "    </tr>\n",
       "    <tr>\n",
       "      <th>1</th>\n",
       "      <td>47</td>\n",
       "      <td>1</td>\n",
       "      <td>26</td>\n",
       "      <td>100</td>\n",
       "      <td>4.582</td>\n",
       "      <td>8.218</td>\n",
       "      <td>0.0</td>\n",
       "      <td>12.8</td>\n",
       "    </tr>\n",
       "    <tr>\n",
       "      <th>2</th>\n",
       "      <td>33</td>\n",
       "      <td>2</td>\n",
       "      <td>10</td>\n",
       "      <td>57</td>\n",
       "      <td>6.111</td>\n",
       "      <td>5.802</td>\n",
       "      <td>1.0</td>\n",
       "      <td>20.9</td>\n",
       "    </tr>\n",
       "    <tr>\n",
       "      <th>3</th>\n",
       "      <td>29</td>\n",
       "      <td>2</td>\n",
       "      <td>4</td>\n",
       "      <td>19</td>\n",
       "      <td>0.681</td>\n",
       "      <td>0.516</td>\n",
       "      <td>0.0</td>\n",
       "      <td>6.3</td>\n",
       "    </tr>\n",
       "    <tr>\n",
       "      <th>4</th>\n",
       "      <td>47</td>\n",
       "      <td>1</td>\n",
       "      <td>31</td>\n",
       "      <td>253</td>\n",
       "      <td>9.308</td>\n",
       "      <td>8.908</td>\n",
       "      <td>0.0</td>\n",
       "      <td>7.2</td>\n",
       "    </tr>\n",
       "  </tbody>\n",
       "</table>\n",
       "</div>"
      ],
      "text/plain": [
       "   Age  Edu  Years Employed  Income  Card Debt  Other Debt  Defaulted  \\\n",
       "0   41    2               6      19      0.124       1.073        0.0   \n",
       "1   47    1              26     100      4.582       8.218        0.0   \n",
       "2   33    2              10      57      6.111       5.802        1.0   \n",
       "3   29    2               4      19      0.681       0.516        0.0   \n",
       "4   47    1              31     253      9.308       8.908        0.0   \n",
       "\n",
       "   DebtIncomeRatio  \n",
       "0              6.3  \n",
       "1             12.8  \n",
       "2             20.9  \n",
       "3              6.3  \n",
       "4              7.2  "
      ]
     },
     "execution_count": 11,
     "metadata": {},
     "output_type": "execute_result"
    }
   ],
   "source": [
    "# Dropping unnecessary columns\n",
    "df.drop(columns=['Unnamed: 0', 'Customer Id'], inplace=True)\n",
    "df.head()"
   ]
  },
  {
   "cell_type": "code",
   "execution_count": null,
   "metadata": {},
   "outputs": [],
   "source": [
    "# Scale the data"
   ]
  },
  {
   "cell_type": "markdown",
   "metadata": {},
   "source": [
    "## `1. Use KMeans to create various customer segments.`\n",
    "### 1. Use an Elbow Plot of inertia."
   ]
  },
  {
   "cell_type": "code",
   "execution_count": null,
   "metadata": {},
   "outputs": [],
   "source": []
  },
  {
   "cell_type": "markdown",
   "metadata": {},
   "source": [
    "### 2. And a plot of Silhouette Scores."
   ]
  },
  {
   "cell_type": "code",
   "execution_count": null,
   "metadata": {},
   "outputs": [],
   "source": []
  },
  {
   "cell_type": "markdown",
   "metadata": {},
   "source": [
    "### 3. Choose a K based on the results."
   ]
  },
  {
   "cell_type": "code",
   "execution_count": null,
   "metadata": {},
   "outputs": [],
   "source": []
  },
  {
   "cell_type": "markdown",
   "metadata": {},
   "source": [
    "## `2. Analyze the clusters you made in Part 1.`  \n",
    "### 1. Create analytical visualizations that explore statistics for each feature for each cluster."
   ]
  },
  {
   "cell_type": "code",
   "execution_count": null,
   "metadata": {},
   "outputs": [],
   "source": []
  },
  {
   "cell_type": "markdown",
   "metadata": {},
   "source": [
    "### 2. `Write a description of each cluster based on the visualizations you created.`\n",
    "  1. Do more than describe the numbers; try to see beyond the numbers and describe the people represented by each cluster.\n",
    "  2. Include at least one insight for each cluster."
   ]
  },
  {
   "cell_type": "markdown",
   "metadata": {},
   "source": []
  },
  {
   "cell_type": "markdown",
   "metadata": {},
   "source": [
    "## 3.`Create one or two recommendations for your stakeholders (the credit card company) regarding how they should market credit cards differently or which cards they should market to each cluster based on your data and insights.`"
   ]
  },
  {
   "cell_type": "markdown",
   "metadata": {},
   "source": []
  }
 ],
 "metadata": {
  "kernelspec": {
   "display_name": "Python (dojo-env)",
   "language": "python",
   "name": "dojo-env"
  },
  "language_info": {
   "codemirror_mode": {
    "name": "ipython",
    "version": 3
   },
   "file_extension": ".py",
   "mimetype": "text/x-python",
   "name": "python",
   "nbconvert_exporter": "python",
   "pygments_lexer": "ipython3",
   "version": "3.10.10"
  },
  "widgets": {
   "application/vnd.jupyter.widget-state+json": {
    "state": {},
    "version_major": 2,
    "version_minor": 0
   }
  }
 },
 "nbformat": 4,
 "nbformat_minor": 4
}
